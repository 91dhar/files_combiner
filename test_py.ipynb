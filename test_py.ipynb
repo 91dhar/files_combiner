{
 "cells": [
  {
   "cell_type": "code",
   "execution_count": 1,
   "id": "71198491",
   "metadata": {},
   "outputs": [
    {
     "name": "stdout",
     "output_type": "stream",
     "text": [
      "Requirement already satisfied: pandas in c:\\users\\inkdb\\anaconda3\\lib\\site-packages (1.4.4)\n",
      "Requirement already satisfied: openpyxl in c:\\users\\inkdb\\anaconda3\\lib\\site-packages (3.0.10)\n",
      "Requirement already satisfied: pytz>=2020.1 in c:\\users\\inkdb\\anaconda3\\lib\\site-packages (from pandas) (2022.1)\n",
      "Requirement already satisfied: numpy>=1.18.5 in c:\\users\\inkdb\\anaconda3\\lib\\site-packages (from pandas) (1.23.5)\n",
      "Requirement already satisfied: python-dateutil>=2.8.1 in c:\\users\\inkdb\\anaconda3\\lib\\site-packages (from pandas) (2.8.2)\n",
      "Requirement already satisfied: et_xmlfile in c:\\users\\inkdb\\anaconda3\\lib\\site-packages (from openpyxl) (1.1.0)\n",
      "Requirement already satisfied: six>=1.5 in c:\\users\\inkdb\\anaconda3\\lib\\site-packages (from python-dateutil>=2.8.1->pandas) (1.16.0)\n"
     ]
    }
   ],
   "source": [
    "!pip install pandas openpyxl"
   ]
  },
  {
   "cell_type": "code",
   "execution_count": 18,
   "id": "af9bd8ff",
   "metadata": {},
   "outputs": [],
   "source": [
    "import pandas as pd\n",
    "import os"
   ]
  },
  {
   "cell_type": "code",
   "execution_count": 27,
   "id": "31f03702",
   "metadata": {},
   "outputs": [],
   "source": [
    "input_directory = 'C:/Users/inkdb/OneDrive/Desktop/test_py/input_files/'"
   ]
  },
  {
   "cell_type": "code",
   "execution_count": 28,
   "id": "a2691cf5",
   "metadata": {},
   "outputs": [],
   "source": [
    "input_files = ['test1.xlsx', 'test2.xlsx', 'test3.xlsx']"
   ]
  },
  {
   "cell_type": "code",
   "execution_count": 29,
   "id": "edf901c2",
   "metadata": {},
   "outputs": [],
   "source": [
    "output_file = 'combined_output.xlsx'\n",
    "excel_writer = pd.ExcelWriter(output_file, engine='openpyxl')"
   ]
  },
  {
   "cell_type": "code",
   "execution_count": 32,
   "id": "a7e0919a",
   "metadata": {},
   "outputs": [
    {
     "name": "stdout",
     "output_type": "stream",
     "text": [
      "Files combined successfully! Output saved to combined_output.xlsx\n"
     ]
    }
   ],
   "source": [
    "for file in input_files:\n",
    "    input_file_path = os.path.join(input_directory, file)\n",
    "    df = pd.read_excel(input_file_path)\n",
    "    sheet_name = file.replace('.xlsx', '')  # Extract sheet name from the file name\n",
    "    df.to_excel(excel_writer, sheet_name=sheet_name, index=False)\n",
    "\n",
    "excel_writer.save()\n",
    "\n",
    "print(f\"Files combined successfully! Output saved to {output_file}\")"
   ]
  },
  {
   "cell_type": "code",
   "execution_count": null,
   "id": "1c186c93",
   "metadata": {},
   "outputs": [],
   "source": []
  }
 ],
 "metadata": {
  "kernelspec": {
   "display_name": "Python 3 (ipykernel)",
   "language": "python",
   "name": "python3"
  },
  "language_info": {
   "codemirror_mode": {
    "name": "ipython",
    "version": 3
   },
   "file_extension": ".py",
   "mimetype": "text/x-python",
   "name": "python",
   "nbconvert_exporter": "python",
   "pygments_lexer": "ipython3",
   "version": "3.9.13"
  }
 },
 "nbformat": 4,
 "nbformat_minor": 5
}
